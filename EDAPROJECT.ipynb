{
 "cells": [
  {
   "cell_type": "markdown",
   "id": "4cfa0d41-2663-4696-b685-33ed3f3f4403",
   "metadata": {},
   "source": [
    "# EDA COMPREHENSIVE PROJECT"
   ]
  },
  {
   "cell_type": "code",
   "execution_count": 1,
   "id": "b8e40b99-9b1e-4a1e-8bd1-3322657b29a0",
   "metadata": {},
   "outputs": [],
   "source": [
    "import pandas as pd\n",
    "import numpy as np\n",
    "import matplotlib.pyplot as plt\n",
    "import seaborn as sns"
   ]
  },
  {
   "cell_type": "code",
   "execution_count": 5,
   "id": "53bdd957-c252-4e56-9d58-86546dc54ace",
   "metadata": {},
   "outputs": [
    {
     "data": {
      "text/html": [
       "<div>\n",
       "<style scoped>\n",
       "    .dataframe tbody tr th:only-of-type {\n",
       "        vertical-align: middle;\n",
       "    }\n",
       "\n",
       "    .dataframe tbody tr th {\n",
       "        vertical-align: top;\n",
       "    }\n",
       "\n",
       "    .dataframe thead th {\n",
       "        text-align: right;\n",
       "    }\n",
       "</style>\n",
       "<table border=\"1\" class=\"dataframe\">\n",
       "  <thead>\n",
       "    <tr style=\"text-align: right;\">\n",
       "      <th></th>\n",
       "      <th>country</th>\n",
       "      <th>year</th>\n",
       "      <th>population</th>\n",
       "      <th>continent</th>\n",
       "      <th>life_exp</th>\n",
       "      <th>gdp_cap</th>\n",
       "    </tr>\n",
       "  </thead>\n",
       "  <tbody>\n",
       "    <tr>\n",
       "      <th>0</th>\n",
       "      <td>Afghanistan</td>\n",
       "      <td>1952</td>\n",
       "      <td>8425333</td>\n",
       "      <td>Asia</td>\n",
       "      <td>28.801</td>\n",
       "      <td>779.445314</td>\n",
       "    </tr>\n",
       "    <tr>\n",
       "      <th>1</th>\n",
       "      <td>Afghanistan</td>\n",
       "      <td>1957</td>\n",
       "      <td>9240934</td>\n",
       "      <td>Asia</td>\n",
       "      <td>30.332</td>\n",
       "      <td>820.853030</td>\n",
       "    </tr>\n",
       "    <tr>\n",
       "      <th>2</th>\n",
       "      <td>Afghanistan</td>\n",
       "      <td>1962</td>\n",
       "      <td>10267083</td>\n",
       "      <td>Asia</td>\n",
       "      <td>31.997</td>\n",
       "      <td>853.100710</td>\n",
       "    </tr>\n",
       "    <tr>\n",
       "      <th>3</th>\n",
       "      <td>Afghanistan</td>\n",
       "      <td>1967</td>\n",
       "      <td>11537966</td>\n",
       "      <td>Asia</td>\n",
       "      <td>34.020</td>\n",
       "      <td>836.197138</td>\n",
       "    </tr>\n",
       "    <tr>\n",
       "      <th>4</th>\n",
       "      <td>Afghanistan</td>\n",
       "      <td>1972</td>\n",
       "      <td>13079460</td>\n",
       "      <td>Asia</td>\n",
       "      <td>36.088</td>\n",
       "      <td>739.981106</td>\n",
       "    </tr>\n",
       "    <tr>\n",
       "      <th>5</th>\n",
       "      <td>Afghanistan</td>\n",
       "      <td>1977</td>\n",
       "      <td>14880372</td>\n",
       "      <td>Asia</td>\n",
       "      <td>38.438</td>\n",
       "      <td>786.113360</td>\n",
       "    </tr>\n",
       "    <tr>\n",
       "      <th>6</th>\n",
       "      <td>Afghanistan</td>\n",
       "      <td>1982</td>\n",
       "      <td>12881816</td>\n",
       "      <td>Asia</td>\n",
       "      <td>39.854</td>\n",
       "      <td>978.011439</td>\n",
       "    </tr>\n",
       "    <tr>\n",
       "      <th>7</th>\n",
       "      <td>Afghanistan</td>\n",
       "      <td>1987</td>\n",
       "      <td>13867957</td>\n",
       "      <td>Asia</td>\n",
       "      <td>40.822</td>\n",
       "      <td>852.395945</td>\n",
       "    </tr>\n",
       "    <tr>\n",
       "      <th>8</th>\n",
       "      <td>Afghanistan</td>\n",
       "      <td>1992</td>\n",
       "      <td>16317921</td>\n",
       "      <td>Asia</td>\n",
       "      <td>41.674</td>\n",
       "      <td>649.341395</td>\n",
       "    </tr>\n",
       "    <tr>\n",
       "      <th>9</th>\n",
       "      <td>Afghanistan</td>\n",
       "      <td>1997</td>\n",
       "      <td>22227415</td>\n",
       "      <td>Asia</td>\n",
       "      <td>41.763</td>\n",
       "      <td>635.341351</td>\n",
       "    </tr>\n",
       "  </tbody>\n",
       "</table>\n",
       "</div>"
      ],
      "text/plain": [
       "       country  year  population continent  life_exp     gdp_cap\n",
       "0  Afghanistan  1952     8425333      Asia    28.801  779.445314\n",
       "1  Afghanistan  1957     9240934      Asia    30.332  820.853030\n",
       "2  Afghanistan  1962    10267083      Asia    31.997  853.100710\n",
       "3  Afghanistan  1967    11537966      Asia    34.020  836.197138\n",
       "4  Afghanistan  1972    13079460      Asia    36.088  739.981106\n",
       "5  Afghanistan  1977    14880372      Asia    38.438  786.113360\n",
       "6  Afghanistan  1982    12881816      Asia    39.854  978.011439\n",
       "7  Afghanistan  1987    13867957      Asia    40.822  852.395945\n",
       "8  Afghanistan  1992    16317921      Asia    41.674  649.341395\n",
       "9  Afghanistan  1997    22227415      Asia    41.763  635.341351"
      ]
     },
     "execution_count": 5,
     "metadata": {},
     "output_type": "execute_result"
    }
   ],
   "source": [
    "#Reading csv file\n",
    "a=pd.read_csv('gapminder_full.csv')\n",
    "a.head(10)"
   ]
  },
  {
   "cell_type": "markdown",
   "id": "71ea424b-be65-4ca1-89fe-4a5fadfe476f",
   "metadata": {},
   "source": [
    "# Data cleaning"
   ]
  },
  {
   "cell_type": "code",
   "execution_count": 6,
   "id": "9b3814e1-59b9-463a-9d4a-63f43ed346db",
   "metadata": {},
   "outputs": [
    {
     "data": {
      "text/plain": [
       "country       0\n",
       "year          0\n",
       "population    0\n",
       "continent     0\n",
       "life_exp      0\n",
       "gdp_cap       0\n",
       "dtype: int64"
      ]
     },
     "execution_count": 6,
     "metadata": {},
     "output_type": "execute_result"
    }
   ],
   "source": [
    "a.isnull().sum()"
   ]
  },
  {
   "cell_type": "code",
   "execution_count": null,
   "id": "24555434-8b9e-422a-9a6e-0578818c40b9",
   "metadata": {},
   "outputs": [],
   "source": [
    "c=pd.merge(a,b, on='id',how='inner')"
   ]
  },
  {
   "cell_type": "code",
   "execution_count": 308,
   "id": "a1f81adb-3ffb-4aec-987f-48b5738574d6",
   "metadata": {},
   "outputs": [
    {
     "data": {
      "text/plain": [
       "0"
      ]
     },
     "execution_count": 308,
     "metadata": {},
     "output_type": "execute_result"
    }
   ],
   "source": [
    "a.duplicated().sum()"
   ]
  },
  {
   "cell_type": "code",
   "execution_count": 310,
   "id": "af69953b-cb55-4d24-aedd-1fb232218a6a",
   "metadata": {},
   "outputs": [
    {
     "data": {
      "text/html": [
       "<div>\n",
       "<style scoped>\n",
       "    .dataframe tbody tr th:only-of-type {\n",
       "        vertical-align: middle;\n",
       "    }\n",
       "\n",
       "    .dataframe tbody tr th {\n",
       "        vertical-align: top;\n",
       "    }\n",
       "\n",
       "    .dataframe thead th {\n",
       "        text-align: right;\n",
       "    }\n",
       "</style>\n",
       "<table border=\"1\" class=\"dataframe\">\n",
       "  <thead>\n",
       "    <tr style=\"text-align: right;\">\n",
       "      <th></th>\n",
       "      <th>country</th>\n",
       "      <th>year</th>\n",
       "      <th>population</th>\n",
       "      <th>continent</th>\n",
       "      <th>life_exp</th>\n",
       "      <th>gdp_cap</th>\n",
       "    </tr>\n",
       "  </thead>\n",
       "  <tbody>\n",
       "    <tr>\n",
       "      <th>0</th>\n",
       "      <td>Afghanistan</td>\n",
       "      <td>1952</td>\n",
       "      <td>8425333</td>\n",
       "      <td>Asia</td>\n",
       "      <td>28.801</td>\n",
       "      <td>779.445314</td>\n",
       "    </tr>\n",
       "  </tbody>\n",
       "</table>\n",
       "</div>"
      ],
      "text/plain": [
       "       country  year  population continent  life_exp     gdp_cap\n",
       "0  Afghanistan  1952     8425333      Asia    28.801  779.445314"
      ]
     },
     "execution_count": 310,
     "metadata": {},
     "output_type": "execute_result"
    }
   ],
   "source": [
    "a.head(1)"
   ]
  },
  {
   "cell_type": "code",
   "execution_count": 25,
   "id": "9f2fdcbd-62bc-402a-a265-220a5337743c",
   "metadata": {},
   "outputs": [
    {
     "data": {
      "text/plain": [
       "142"
      ]
     },
     "execution_count": 25,
     "metadata": {},
     "output_type": "execute_result"
    }
   ],
   "source": [
    "a['country'].nunique()  #count the number of country"
   ]
  },
  {
   "cell_type": "markdown",
   "id": "61bf4c83-5ba7-4e64-b828-aff7750afae0",
   "metadata": {},
   "source": [
    "### Question-2) Create a pivot table that shows the average life expectancy for each continent and year. Index by 'continent', use 'year' as columns, and 'life_exp' as values."
   ]
  },
  {
   "cell_type": "code",
   "execution_count": 311,
   "id": "c696c049-0987-4281-a459-edc2706b27bc",
   "metadata": {},
   "outputs": [
    {
     "data": {
      "text/html": [
       "<div>\n",
       "<style scoped>\n",
       "    .dataframe tbody tr th:only-of-type {\n",
       "        vertical-align: middle;\n",
       "    }\n",
       "\n",
       "    .dataframe tbody tr th {\n",
       "        vertical-align: top;\n",
       "    }\n",
       "\n",
       "    .dataframe thead th {\n",
       "        text-align: right;\n",
       "    }\n",
       "</style>\n",
       "<table border=\"1\" class=\"dataframe\">\n",
       "  <thead>\n",
       "    <tr style=\"text-align: right;\">\n",
       "      <th>year</th>\n",
       "      <th>1952</th>\n",
       "      <th>1957</th>\n",
       "      <th>1962</th>\n",
       "      <th>1967</th>\n",
       "      <th>1972</th>\n",
       "      <th>1977</th>\n",
       "      <th>1982</th>\n",
       "      <th>1987</th>\n",
       "      <th>1992</th>\n",
       "      <th>1997</th>\n",
       "      <th>2002</th>\n",
       "      <th>2007</th>\n",
       "    </tr>\n",
       "    <tr>\n",
       "      <th>continent</th>\n",
       "      <th></th>\n",
       "      <th></th>\n",
       "      <th></th>\n",
       "      <th></th>\n",
       "      <th></th>\n",
       "      <th></th>\n",
       "      <th></th>\n",
       "      <th></th>\n",
       "      <th></th>\n",
       "      <th></th>\n",
       "      <th></th>\n",
       "      <th></th>\n",
       "    </tr>\n",
       "  </thead>\n",
       "  <tbody>\n",
       "    <tr>\n",
       "      <th>Africa</th>\n",
       "      <td>39.135500</td>\n",
       "      <td>41.266346</td>\n",
       "      <td>43.319442</td>\n",
       "      <td>45.334538</td>\n",
       "      <td>47.450942</td>\n",
       "      <td>49.580423</td>\n",
       "      <td>51.592865</td>\n",
       "      <td>53.344788</td>\n",
       "      <td>53.629577</td>\n",
       "      <td>53.598269</td>\n",
       "      <td>53.325231</td>\n",
       "      <td>54.806038</td>\n",
       "    </tr>\n",
       "    <tr>\n",
       "      <th>Americas</th>\n",
       "      <td>53.279840</td>\n",
       "      <td>55.960280</td>\n",
       "      <td>58.398760</td>\n",
       "      <td>60.410920</td>\n",
       "      <td>62.394920</td>\n",
       "      <td>64.391560</td>\n",
       "      <td>66.228840</td>\n",
       "      <td>68.090720</td>\n",
       "      <td>69.568360</td>\n",
       "      <td>71.150480</td>\n",
       "      <td>72.422040</td>\n",
       "      <td>73.608120</td>\n",
       "    </tr>\n",
       "    <tr>\n",
       "      <th>Asia</th>\n",
       "      <td>46.314394</td>\n",
       "      <td>49.318544</td>\n",
       "      <td>51.563223</td>\n",
       "      <td>54.663640</td>\n",
       "      <td>57.319269</td>\n",
       "      <td>59.610556</td>\n",
       "      <td>62.617939</td>\n",
       "      <td>64.851182</td>\n",
       "      <td>66.537212</td>\n",
       "      <td>68.020515</td>\n",
       "      <td>69.233879</td>\n",
       "      <td>70.728485</td>\n",
       "    </tr>\n",
       "    <tr>\n",
       "      <th>Europe</th>\n",
       "      <td>64.408500</td>\n",
       "      <td>66.703067</td>\n",
       "      <td>68.539233</td>\n",
       "      <td>69.737600</td>\n",
       "      <td>70.775033</td>\n",
       "      <td>71.937767</td>\n",
       "      <td>72.806400</td>\n",
       "      <td>73.642167</td>\n",
       "      <td>74.440100</td>\n",
       "      <td>75.505167</td>\n",
       "      <td>76.700600</td>\n",
       "      <td>77.648600</td>\n",
       "    </tr>\n",
       "    <tr>\n",
       "      <th>Oceania</th>\n",
       "      <td>69.255000</td>\n",
       "      <td>70.295000</td>\n",
       "      <td>71.085000</td>\n",
       "      <td>71.310000</td>\n",
       "      <td>71.910000</td>\n",
       "      <td>72.855000</td>\n",
       "      <td>74.290000</td>\n",
       "      <td>75.320000</td>\n",
       "      <td>76.945000</td>\n",
       "      <td>78.190000</td>\n",
       "      <td>79.740000</td>\n",
       "      <td>80.719500</td>\n",
       "    </tr>\n",
       "  </tbody>\n",
       "</table>\n",
       "</div>"
      ],
      "text/plain": [
       "year            1952       1957       1962       1967       1972       1977  \\\n",
       "continent                                                                     \n",
       "Africa     39.135500  41.266346  43.319442  45.334538  47.450942  49.580423   \n",
       "Americas   53.279840  55.960280  58.398760  60.410920  62.394920  64.391560   \n",
       "Asia       46.314394  49.318544  51.563223  54.663640  57.319269  59.610556   \n",
       "Europe     64.408500  66.703067  68.539233  69.737600  70.775033  71.937767   \n",
       "Oceania    69.255000  70.295000  71.085000  71.310000  71.910000  72.855000   \n",
       "\n",
       "year            1982       1987       1992       1997       2002       2007  \n",
       "continent                                                                    \n",
       "Africa     51.592865  53.344788  53.629577  53.598269  53.325231  54.806038  \n",
       "Americas   66.228840  68.090720  69.568360  71.150480  72.422040  73.608120  \n",
       "Asia       62.617939  64.851182  66.537212  68.020515  69.233879  70.728485  \n",
       "Europe     72.806400  73.642167  74.440100  75.505167  76.700600  77.648600  \n",
       "Oceania    74.290000  75.320000  76.945000  78.190000  79.740000  80.719500  "
      ]
     },
     "execution_count": 311,
     "metadata": {},
     "output_type": "execute_result"
    }
   ],
   "source": [
    "average_life_expectancy=pd.pivot_table(a,values='life_exp',columns='year', index='continent',aggfunc='mean')\n",
    "average_life_expectancy"
   ]
  },
  {
   "cell_type": "markdown",
   "id": "422e8e58-5904-4f1b-a511-01246ee83002",
   "metadata": {},
   "source": [
    "### Question-3) Which countries had a GDP per capita higher than the 75th percentile in 2007?"
   ]
  },
  {
   "cell_type": "code",
   "execution_count": 27,
   "id": "e7ec149b-16aa-4e59-ace3-3ee61bdc73c4",
   "metadata": {},
   "outputs": [
    {
     "name": "stdout",
     "output_type": "stream",
     "text": [
      "75th percentile value:18008.84\n"
     ]
    }
   ],
   "source": [
    "percentile_75=a[a['year'] == 2007]['gdp_cap'].quantile(0.75)\n",
    "print(f\"75th percentile value:{percentile_75:.2f}\")"
   ]
  },
  {
   "cell_type": "code",
   "execution_count": 140,
   "id": "a701873e-6269-4e3c-bd93-657686e64777",
   "metadata": {},
   "outputs": [
    {
     "data": {
      "text/html": [
       "<div>\n",
       "<style scoped>\n",
       "    .dataframe tbody tr th:only-of-type {\n",
       "        vertical-align: middle;\n",
       "    }\n",
       "\n",
       "    .dataframe tbody tr th {\n",
       "        vertical-align: top;\n",
       "    }\n",
       "\n",
       "    .dataframe thead th {\n",
       "        text-align: right;\n",
       "    }\n",
       "</style>\n",
       "<table border=\"1\" class=\"dataframe\">\n",
       "  <thead>\n",
       "    <tr style=\"text-align: right;\">\n",
       "      <th></th>\n",
       "      <th>country</th>\n",
       "      <th>gdp_cap</th>\n",
       "    </tr>\n",
       "  </thead>\n",
       "  <tbody>\n",
       "    <tr>\n",
       "      <th>71</th>\n",
       "      <td>Australia</td>\n",
       "      <td>34435.36744</td>\n",
       "    </tr>\n",
       "    <tr>\n",
       "      <th>83</th>\n",
       "      <td>Austria</td>\n",
       "      <td>36126.49270</td>\n",
       "    </tr>\n",
       "    <tr>\n",
       "      <th>95</th>\n",
       "      <td>Bahrain</td>\n",
       "      <td>29796.04834</td>\n",
       "    </tr>\n",
       "    <tr>\n",
       "      <th>119</th>\n",
       "      <td>Belgium</td>\n",
       "      <td>33692.60508</td>\n",
       "    </tr>\n",
       "    <tr>\n",
       "      <th>251</th>\n",
       "      <td>Canada</td>\n",
       "      <td>36319.23501</td>\n",
       "    </tr>\n",
       "    <tr>\n",
       "      <th>407</th>\n",
       "      <td>Czech Republic</td>\n",
       "      <td>22833.30851</td>\n",
       "    </tr>\n",
       "    <tr>\n",
       "      <th>419</th>\n",
       "      <td>Denmark</td>\n",
       "      <td>35278.41874</td>\n",
       "    </tr>\n",
       "    <tr>\n",
       "      <th>527</th>\n",
       "      <td>Finland</td>\n",
       "      <td>33207.08440</td>\n",
       "    </tr>\n",
       "    <tr>\n",
       "      <th>539</th>\n",
       "      <td>France</td>\n",
       "      <td>30470.01670</td>\n",
       "    </tr>\n",
       "    <tr>\n",
       "      <th>575</th>\n",
       "      <td>Germany</td>\n",
       "      <td>32170.37442</td>\n",
       "    </tr>\n",
       "  </tbody>\n",
       "</table>\n",
       "</div>"
      ],
      "text/plain": [
       "            country      gdp_cap\n",
       "71        Australia  34435.36744\n",
       "83          Austria  36126.49270\n",
       "95          Bahrain  29796.04834\n",
       "119         Belgium  33692.60508\n",
       "251          Canada  36319.23501\n",
       "407  Czech Republic  22833.30851\n",
       "419         Denmark  35278.41874\n",
       "527         Finland  33207.08440\n",
       "539          France  30470.01670\n",
       "575         Germany  32170.37442"
      ]
     },
     "execution_count": 140,
     "metadata": {},
     "output_type": "execute_result"
    }
   ],
   "source": [
    "high_gdp_2007=a[(a['year']==2007)&(a['gdp_cap']>percentile_75)]\n",
    "high_gdp_2007[['country','gdp_cap']].head(10)"
   ]
  },
  {
   "cell_type": "markdown",
   "id": "927504f8-5acf-47d2-8d8d-2dbfa9763abc",
   "metadata": {},
   "source": [
    "### Question-4) Categorize the 'life_exp' into 4 equally ranged bins from 'Low' to 'Very High'. Use cut to create these categorical life expectancy groups and add them as a new column 'Life_Exp_Range'."
   ]
  },
  {
   "cell_type": "code",
   "execution_count": 9,
   "id": "5820b920-e5dc-4805-a584-fc574effcfbc",
   "metadata": {},
   "outputs": [
    {
     "data": {
      "text/html": [
       "<div>\n",
       "<style scoped>\n",
       "    .dataframe tbody tr th:only-of-type {\n",
       "        vertical-align: middle;\n",
       "    }\n",
       "\n",
       "    .dataframe tbody tr th {\n",
       "        vertical-align: top;\n",
       "    }\n",
       "\n",
       "    .dataframe thead th {\n",
       "        text-align: right;\n",
       "    }\n",
       "</style>\n",
       "<table border=\"1\" class=\"dataframe\">\n",
       "  <thead>\n",
       "    <tr style=\"text-align: right;\">\n",
       "      <th></th>\n",
       "      <th>country</th>\n",
       "      <th>year</th>\n",
       "      <th>population</th>\n",
       "      <th>continent</th>\n",
       "      <th>life_exp</th>\n",
       "      <th>gdp_cap</th>\n",
       "      <th>Life_Exp_Range</th>\n",
       "    </tr>\n",
       "  </thead>\n",
       "  <tbody>\n",
       "    <tr>\n",
       "      <th>0</th>\n",
       "      <td>Afghanistan</td>\n",
       "      <td>1952</td>\n",
       "      <td>8425333</td>\n",
       "      <td>Asia</td>\n",
       "      <td>28.801</td>\n",
       "      <td>779.445314</td>\n",
       "      <td>Low</td>\n",
       "    </tr>\n",
       "    <tr>\n",
       "      <th>1</th>\n",
       "      <td>Afghanistan</td>\n",
       "      <td>1957</td>\n",
       "      <td>9240934</td>\n",
       "      <td>Asia</td>\n",
       "      <td>30.332</td>\n",
       "      <td>820.853030</td>\n",
       "      <td>Low</td>\n",
       "    </tr>\n",
       "    <tr>\n",
       "      <th>2</th>\n",
       "      <td>Afghanistan</td>\n",
       "      <td>1962</td>\n",
       "      <td>10267083</td>\n",
       "      <td>Asia</td>\n",
       "      <td>31.997</td>\n",
       "      <td>853.100710</td>\n",
       "      <td>Low</td>\n",
       "    </tr>\n",
       "    <tr>\n",
       "      <th>3</th>\n",
       "      <td>Afghanistan</td>\n",
       "      <td>1967</td>\n",
       "      <td>11537966</td>\n",
       "      <td>Asia</td>\n",
       "      <td>34.020</td>\n",
       "      <td>836.197138</td>\n",
       "      <td>Low</td>\n",
       "    </tr>\n",
       "    <tr>\n",
       "      <th>4</th>\n",
       "      <td>Afghanistan</td>\n",
       "      <td>1972</td>\n",
       "      <td>13079460</td>\n",
       "      <td>Asia</td>\n",
       "      <td>36.088</td>\n",
       "      <td>739.981106</td>\n",
       "      <td>Low</td>\n",
       "    </tr>\n",
       "    <tr>\n",
       "      <th>5</th>\n",
       "      <td>Afghanistan</td>\n",
       "      <td>1977</td>\n",
       "      <td>14880372</td>\n",
       "      <td>Asia</td>\n",
       "      <td>38.438</td>\n",
       "      <td>786.113360</td>\n",
       "      <td>Low</td>\n",
       "    </tr>\n",
       "    <tr>\n",
       "      <th>6</th>\n",
       "      <td>Afghanistan</td>\n",
       "      <td>1982</td>\n",
       "      <td>12881816</td>\n",
       "      <td>Asia</td>\n",
       "      <td>39.854</td>\n",
       "      <td>978.011439</td>\n",
       "      <td>Low</td>\n",
       "    </tr>\n",
       "    <tr>\n",
       "      <th>7</th>\n",
       "      <td>Afghanistan</td>\n",
       "      <td>1987</td>\n",
       "      <td>13867957</td>\n",
       "      <td>Asia</td>\n",
       "      <td>40.822</td>\n",
       "      <td>852.395945</td>\n",
       "      <td>Low</td>\n",
       "    </tr>\n",
       "    <tr>\n",
       "      <th>8</th>\n",
       "      <td>Afghanistan</td>\n",
       "      <td>1992</td>\n",
       "      <td>16317921</td>\n",
       "      <td>Asia</td>\n",
       "      <td>41.674</td>\n",
       "      <td>649.341395</td>\n",
       "      <td>Low</td>\n",
       "    </tr>\n",
       "    <tr>\n",
       "      <th>9</th>\n",
       "      <td>Afghanistan</td>\n",
       "      <td>1997</td>\n",
       "      <td>22227415</td>\n",
       "      <td>Asia</td>\n",
       "      <td>41.763</td>\n",
       "      <td>635.341351</td>\n",
       "      <td>Low</td>\n",
       "    </tr>\n",
       "    <tr>\n",
       "      <th>10</th>\n",
       "      <td>Afghanistan</td>\n",
       "      <td>2002</td>\n",
       "      <td>25268405</td>\n",
       "      <td>Asia</td>\n",
       "      <td>42.129</td>\n",
       "      <td>726.734055</td>\n",
       "      <td>Low</td>\n",
       "    </tr>\n",
       "    <tr>\n",
       "      <th>11</th>\n",
       "      <td>Afghanistan</td>\n",
       "      <td>2007</td>\n",
       "      <td>31889923</td>\n",
       "      <td>Asia</td>\n",
       "      <td>43.828</td>\n",
       "      <td>974.580338</td>\n",
       "      <td>Low</td>\n",
       "    </tr>\n",
       "    <tr>\n",
       "      <th>12</th>\n",
       "      <td>Albania</td>\n",
       "      <td>1952</td>\n",
       "      <td>1282697</td>\n",
       "      <td>Europe</td>\n",
       "      <td>55.230</td>\n",
       "      <td>1601.056136</td>\n",
       "      <td>Low</td>\n",
       "    </tr>\n",
       "    <tr>\n",
       "      <th>13</th>\n",
       "      <td>Albania</td>\n",
       "      <td>1957</td>\n",
       "      <td>1476505</td>\n",
       "      <td>Europe</td>\n",
       "      <td>59.280</td>\n",
       "      <td>1942.284244</td>\n",
       "      <td>Low</td>\n",
       "    </tr>\n",
       "    <tr>\n",
       "      <th>14</th>\n",
       "      <td>Albania</td>\n",
       "      <td>1962</td>\n",
       "      <td>1728137</td>\n",
       "      <td>Europe</td>\n",
       "      <td>64.820</td>\n",
       "      <td>2312.888958</td>\n",
       "      <td>Medium</td>\n",
       "    </tr>\n",
       "    <tr>\n",
       "      <th>15</th>\n",
       "      <td>Albania</td>\n",
       "      <td>1967</td>\n",
       "      <td>1984060</td>\n",
       "      <td>Europe</td>\n",
       "      <td>66.220</td>\n",
       "      <td>2760.196931</td>\n",
       "      <td>Medium</td>\n",
       "    </tr>\n",
       "    <tr>\n",
       "      <th>16</th>\n",
       "      <td>Albania</td>\n",
       "      <td>1972</td>\n",
       "      <td>2263554</td>\n",
       "      <td>Europe</td>\n",
       "      <td>67.690</td>\n",
       "      <td>3313.422188</td>\n",
       "      <td>Medium</td>\n",
       "    </tr>\n",
       "    <tr>\n",
       "      <th>17</th>\n",
       "      <td>Albania</td>\n",
       "      <td>1977</td>\n",
       "      <td>2509048</td>\n",
       "      <td>Europe</td>\n",
       "      <td>68.930</td>\n",
       "      <td>3533.003910</td>\n",
       "      <td>Medium</td>\n",
       "    </tr>\n",
       "    <tr>\n",
       "      <th>18</th>\n",
       "      <td>Albania</td>\n",
       "      <td>1982</td>\n",
       "      <td>2780097</td>\n",
       "      <td>Europe</td>\n",
       "      <td>70.420</td>\n",
       "      <td>3630.880722</td>\n",
       "      <td>High</td>\n",
       "    </tr>\n",
       "    <tr>\n",
       "      <th>19</th>\n",
       "      <td>Albania</td>\n",
       "      <td>1987</td>\n",
       "      <td>3075321</td>\n",
       "      <td>Europe</td>\n",
       "      <td>72.000</td>\n",
       "      <td>3738.932735</td>\n",
       "      <td>High</td>\n",
       "    </tr>\n",
       "  </tbody>\n",
       "</table>\n",
       "</div>"
      ],
      "text/plain": [
       "        country  year  population continent  life_exp      gdp_cap  \\\n",
       "0   Afghanistan  1952     8425333      Asia    28.801   779.445314   \n",
       "1   Afghanistan  1957     9240934      Asia    30.332   820.853030   \n",
       "2   Afghanistan  1962    10267083      Asia    31.997   853.100710   \n",
       "3   Afghanistan  1967    11537966      Asia    34.020   836.197138   \n",
       "4   Afghanistan  1972    13079460      Asia    36.088   739.981106   \n",
       "5   Afghanistan  1977    14880372      Asia    38.438   786.113360   \n",
       "6   Afghanistan  1982    12881816      Asia    39.854   978.011439   \n",
       "7   Afghanistan  1987    13867957      Asia    40.822   852.395945   \n",
       "8   Afghanistan  1992    16317921      Asia    41.674   649.341395   \n",
       "9   Afghanistan  1997    22227415      Asia    41.763   635.341351   \n",
       "10  Afghanistan  2002    25268405      Asia    42.129   726.734055   \n",
       "11  Afghanistan  2007    31889923      Asia    43.828   974.580338   \n",
       "12      Albania  1952     1282697    Europe    55.230  1601.056136   \n",
       "13      Albania  1957     1476505    Europe    59.280  1942.284244   \n",
       "14      Albania  1962     1728137    Europe    64.820  2312.888958   \n",
       "15      Albania  1967     1984060    Europe    66.220  2760.196931   \n",
       "16      Albania  1972     2263554    Europe    67.690  3313.422188   \n",
       "17      Albania  1977     2509048    Europe    68.930  3533.003910   \n",
       "18      Albania  1982     2780097    Europe    70.420  3630.880722   \n",
       "19      Albania  1987     3075321    Europe    72.000  3738.932735   \n",
       "\n",
       "   Life_Exp_Range  \n",
       "0             Low  \n",
       "1             Low  \n",
       "2             Low  \n",
       "3             Low  \n",
       "4             Low  \n",
       "5             Low  \n",
       "6             Low  \n",
       "7             Low  \n",
       "8             Low  \n",
       "9             Low  \n",
       "10            Low  \n",
       "11            Low  \n",
       "12            Low  \n",
       "13            Low  \n",
       "14         Medium  \n",
       "15         Medium  \n",
       "16         Medium  \n",
       "17         Medium  \n",
       "18           High  \n",
       "19           High  "
      ]
     },
     "execution_count": 9,
     "metadata": {},
     "output_type": "execute_result"
    }
   ],
   "source": [
    "bin_edges = [0,60,70,80,float('inf')]\n",
    "bin_labels = ['Low', 'Medium', 'High', 'Very High']\n",
    "a['Life_Exp_Range'] = pd.cut(a['life_exp'], bins=bin_edges, labels=bin_labels,right=False)\n",
    "a.head(20)"
   ]
  },
  {
   "cell_type": "markdown",
   "id": "16ec3c05-5508-40ef-b3ce-afea3d1819a5",
   "metadata": {},
   "source": [
    "### Question-5) Identify the top 5 countries with the highest GDP per capita in 2007. Use a horizontal bar chart to display this data"
   ]
  },
  {
   "cell_type": "code",
   "execution_count": 267,
   "id": "f0e924cc-7f56-4182-9736-6ca91ee27e31",
   "metadata": {},
   "outputs": [
    {
     "data": {
      "text/html": [
       "<div>\n",
       "<style scoped>\n",
       "    .dataframe tbody tr th:only-of-type {\n",
       "        vertical-align: middle;\n",
       "    }\n",
       "\n",
       "    .dataframe tbody tr th {\n",
       "        vertical-align: top;\n",
       "    }\n",
       "\n",
       "    .dataframe thead th {\n",
       "        text-align: right;\n",
       "    }\n",
       "</style>\n",
       "<table border=\"1\" class=\"dataframe\">\n",
       "  <thead>\n",
       "    <tr style=\"text-align: right;\">\n",
       "      <th></th>\n",
       "      <th>country</th>\n",
       "      <th>year</th>\n",
       "      <th>population</th>\n",
       "      <th>continent</th>\n",
       "      <th>life_exp</th>\n",
       "      <th>gdp_cap</th>\n",
       "      <th>Life_Exp_Range</th>\n",
       "    </tr>\n",
       "  </thead>\n",
       "  <tbody>\n",
       "    <tr>\n",
       "      <th>1151</th>\n",
       "      <td>Norway</td>\n",
       "      <td>2007</td>\n",
       "      <td>4627926</td>\n",
       "      <td>Europe</td>\n",
       "      <td>80.196</td>\n",
       "      <td>49357.19017</td>\n",
       "      <td>Very High</td>\n",
       "    </tr>\n",
       "    <tr>\n",
       "      <th>863</th>\n",
       "      <td>Kuwait</td>\n",
       "      <td>2007</td>\n",
       "      <td>2505559</td>\n",
       "      <td>Asia</td>\n",
       "      <td>77.588</td>\n",
       "      <td>47306.98978</td>\n",
       "      <td>High</td>\n",
       "    </tr>\n",
       "    <tr>\n",
       "      <th>1367</th>\n",
       "      <td>Singapore</td>\n",
       "      <td>2007</td>\n",
       "      <td>4553009</td>\n",
       "      <td>Asia</td>\n",
       "      <td>79.972</td>\n",
       "      <td>47143.17964</td>\n",
       "      <td>High</td>\n",
       "    </tr>\n",
       "    <tr>\n",
       "      <th>1619</th>\n",
       "      <td>United States</td>\n",
       "      <td>2007</td>\n",
       "      <td>301139947</td>\n",
       "      <td>Americas</td>\n",
       "      <td>78.242</td>\n",
       "      <td>42951.65309</td>\n",
       "      <td>High</td>\n",
       "    </tr>\n",
       "    <tr>\n",
       "      <th>755</th>\n",
       "      <td>Ireland</td>\n",
       "      <td>2007</td>\n",
       "      <td>4109086</td>\n",
       "      <td>Europe</td>\n",
       "      <td>78.885</td>\n",
       "      <td>40675.99635</td>\n",
       "      <td>High</td>\n",
       "    </tr>\n",
       "  </tbody>\n",
       "</table>\n",
       "</div>"
      ],
      "text/plain": [
       "            country  year  population continent  life_exp      gdp_cap  \\\n",
       "1151         Norway  2007     4627926    Europe    80.196  49357.19017   \n",
       "863          Kuwait  2007     2505559      Asia    77.588  47306.98978   \n",
       "1367      Singapore  2007     4553009      Asia    79.972  47143.17964   \n",
       "1619  United States  2007   301139947  Americas    78.242  42951.65309   \n",
       "755         Ireland  2007     4109086    Europe    78.885  40675.99635   \n",
       "\n",
       "     Life_Exp_Range  \n",
       "1151      Very High  \n",
       "863            High  \n",
       "1367           High  \n",
       "1619           High  \n",
       "755            High  "
      ]
     },
     "execution_count": 267,
     "metadata": {},
     "output_type": "execute_result"
    }
   ],
   "source": [
    "#gdp_2007=a[a['year']==2007].groupby('country')['gdp_cap'].max()\n",
    "highest_gdp=a[a['year']==2007].sort_values('gdp_cap',ascending=False).head(5)\n",
    "highest_gdp"
   ]
  },
  {
   "cell_type": "code",
   "execution_count": 147,
   "id": "35734de2-215a-4a3e-bf74-768d3ec6ee0d",
   "metadata": {},
   "outputs": [
    {
     "data": {
      "image/png": "[encoded data removed]",
      "text/plain": [
       "<Figure size 800x400 with 1 Axes>"
      ]
     },
     "metadata": {},
     "output_type": "display_data"
    }
   ],
   "source": [
    "plt.figure(figsize=(8,4))\n",
    "plt.barh('country','gdp_cap',data=highest_gdp)\n",
    "plt.xlabel('GDP_CAPITAL')\n",
    "plt.ylabel('Country')\n",
    "plt.title('Top 5 Countries with Highest GDP per Capita (2007)')\n",
    "plt.gca().invert_yaxis()"
   ]
  },
  {
   "cell_type": "markdown",
   "id": "4a689fc9-f467-4bdf-9d89-2cbde1cb380b",
   "metadata": {},
   "source": [
    "### Question-6) Find all country names that start with \"I\" and end with \"a\" using regex."
   ]
  },
  {
   "cell_type": "code",
   "execution_count": 153,
   "id": "ca59245d-3438-4a5e-a150-e49a337d2a1a",
   "metadata": {},
   "outputs": [
    {
     "data": {
      "text/plain": [
       "['India', 'Indonesia']"
      ]
     },
     "execution_count": 153,
     "metadata": {},
     "output_type": "execute_result"
    }
   ],
   "source": [
    "pattern=r'^I.*a$'\n",
    "match_country_df=a[a['country'].str.match(pattern)]['country'].unique().tolist()\n",
    "match_country_df"
   ]
  },
  {
   "cell_type": "markdown",
   "id": "ddf246aa-3d1c-46ac-b365-3e5850beffaa",
   "metadata": {},
   "source": [
    "### Question-7) Create a boxplot using Seaborn to compare the distribution of GDP per capita for each continent in 2007."
   ]
  },
  {
   "cell_type": "code",
   "execution_count": 155,
   "id": "e5fff72e-ff49-46a6-8466-df94cb2be829",
   "metadata": {},
   "outputs": [
    {
     "data": {
      "text/plain": [
       "continent\n",
       "Africa       3089.032605\n",
       "Americas    11003.031625\n",
       "Asia        12473.026870\n",
       "Europe      25054.481636\n",
       "Oceania     29810.188275\n",
       "Name: gdp_cap, dtype: float64"
      ]
     },
     "execution_count": 155,
     "metadata": {},
     "output_type": "execute_result"
    }
   ],
   "source": [
    "average_gdp_2007=a[a['year']==2007].groupby('continent')['gdp_cap'].mean()\n",
    "average_gdp_2007"
   ]
  },
  {
   "cell_type": "code",
   "execution_count": 137,
   "id": "8d8fef97-502f-458c-9e2a-07840bcdf5d3",
   "metadata": {},
   "outputs": [
    {
     "data": {
      "text/plain": [
       "Text(0.5, 1.0, 'Distribution of GDP per Capita by Continent (2007)')"
      ]
     },
     "execution_count": 137,
     "metadata": {},
     "output_type": "execute_result"
    },
    {
     "data": {
      "image/png": "[encoded data removed]",
      "text/plain": [
       "<Figure size 800x400 with 1 Axes>"
      ]
     },
     "metadata": {},
     "output_type": "display_data"
    }
   ],
   "source": [
    "plt.figure(figsize=(8,4))\n",
    "sns.boxplot(x='continent',y='gdp_cap',data=a[a['year']==2007])\n",
    "plt.title('Distribution of GDP per Capita by Continent (2007)')"
   ]
  },
  {
   "cell_type": "markdown",
   "id": "7c59b8a6-5bda-4451-91d6-650561e927ec",
   "metadata": {},
   "source": [
    "### Question-8) Find all countries with a life expectancy of over 80 years in 2007. List these countries and their respective continents."
   ]
  },
  {
   "cell_type": "code",
   "execution_count": 61,
   "id": "3ab9a882-ca4a-41cd-a595-f83ed734304c",
   "metadata": {},
   "outputs": [
    {
     "data": {
      "text/plain": [
       "country           continent\n",
       "Australia         Oceania      81.235\n",
       "Canada            Americas     80.653\n",
       "France            Europe       80.657\n",
       "Hong Kong, China  Asia         82.208\n",
       "Iceland           Europe       81.757\n",
       "Israel            Asia         80.745\n",
       "Italy             Europe       80.546\n",
       "Japan             Asia         82.603\n",
       "New Zealand       Oceania      80.204\n",
       "Norway            Europe       80.196\n",
       "Spain             Europe       80.941\n",
       "Sweden            Europe       80.884\n",
       "Switzerland       Europe       81.701\n",
       "Name: life_exp, dtype: float64"
      ]
     },
     "execution_count": 61,
     "metadata": {},
     "output_type": "execute_result"
    }
   ],
   "source": [
    "life_exp_mean=a[a['year']==2007].groupby(['country','continent'])['life_exp'].mean()\n",
    "result=life_exp_mean[life_exp_mean>=80]\n",
    "result"
   ]
  },
  {
   "cell_type": "markdown",
   "id": "d206474f-08ae-400b-8937-becbf7d96900",
   "metadata": {},
   "source": [
    "### Question-9) Convert the 'year' column to a datetime type and extract the decade. Create a new column 'Decade' that groups the years into decades\n",
    "(e.g., the 1950s, 1960s)."
   ]
  },
  {
   "cell_type": "code",
   "execution_count": 168,
   "id": "1f6a0a7d-08ac-452c-849b-98d837103fd5",
   "metadata": {},
   "outputs": [
    {
     "data": {
      "text/html": [
       "<div>\n",
       "<style scoped>\n",
       "    .dataframe tbody tr th:only-of-type {\n",
       "        vertical-align: middle;\n",
       "    }\n",
       "\n",
       "    .dataframe tbody tr th {\n",
       "        vertical-align: top;\n",
       "    }\n",
       "\n",
       "    .dataframe thead th {\n",
       "        text-align: right;\n",
       "    }\n",
       "</style>\n",
       "<table border=\"1\" class=\"dataframe\">\n",
       "  <thead>\n",
       "    <tr style=\"text-align: right;\">\n",
       "      <th></th>\n",
       "      <th>country</th>\n",
       "      <th>year</th>\n",
       "      <th>population</th>\n",
       "      <th>continent</th>\n",
       "      <th>life_exp</th>\n",
       "      <th>gdp_cap</th>\n",
       "      <th>Life_Exp_Range</th>\n",
       "      <th>decade</th>\n",
       "    </tr>\n",
       "  </thead>\n",
       "  <tbody>\n",
       "    <tr>\n",
       "      <th>0</th>\n",
       "      <td>Afghanistan</td>\n",
       "      <td>1952</td>\n",
       "      <td>8425333</td>\n",
       "      <td>Asia</td>\n",
       "      <td>28.801</td>\n",
       "      <td>779.445314</td>\n",
       "      <td>Low</td>\n",
       "      <td>1950s</td>\n",
       "    </tr>\n",
       "    <tr>\n",
       "      <th>1</th>\n",
       "      <td>Afghanistan</td>\n",
       "      <td>1957</td>\n",
       "      <td>9240934</td>\n",
       "      <td>Asia</td>\n",
       "      <td>30.332</td>\n",
       "      <td>820.853030</td>\n",
       "      <td>Low</td>\n",
       "      <td>1950s</td>\n",
       "    </tr>\n",
       "    <tr>\n",
       "      <th>2</th>\n",
       "      <td>Afghanistan</td>\n",
       "      <td>1962</td>\n",
       "      <td>10267083</td>\n",
       "      <td>Asia</td>\n",
       "      <td>31.997</td>\n",
       "      <td>853.100710</td>\n",
       "      <td>Low</td>\n",
       "      <td>1960s</td>\n",
       "    </tr>\n",
       "    <tr>\n",
       "      <th>3</th>\n",
       "      <td>Afghanistan</td>\n",
       "      <td>1967</td>\n",
       "      <td>11537966</td>\n",
       "      <td>Asia</td>\n",
       "      <td>34.020</td>\n",
       "      <td>836.197138</td>\n",
       "      <td>Low</td>\n",
       "      <td>1960s</td>\n",
       "    </tr>\n",
       "    <tr>\n",
       "      <th>4</th>\n",
       "      <td>Afghanistan</td>\n",
       "      <td>1972</td>\n",
       "      <td>13079460</td>\n",
       "      <td>Asia</td>\n",
       "      <td>36.088</td>\n",
       "      <td>739.981106</td>\n",
       "      <td>Low</td>\n",
       "      <td>1970s</td>\n",
       "    </tr>\n",
       "  </tbody>\n",
       "</table>\n",
       "</div>"
      ],
      "text/plain": [
       "       country  year  population continent  life_exp     gdp_cap  \\\n",
       "0  Afghanistan  1952     8425333      Asia    28.801  779.445314   \n",
       "1  Afghanistan  1957     9240934      Asia    30.332  820.853030   \n",
       "2  Afghanistan  1962    10267083      Asia    31.997  853.100710   \n",
       "3  Afghanistan  1967    11537966      Asia    34.020  836.197138   \n",
       "4  Afghanistan  1972    13079460      Asia    36.088  739.981106   \n",
       "\n",
       "  Life_Exp_Range decade  \n",
       "0            Low  1950s  \n",
       "1            Low  1950s  \n",
       "2            Low  1960s  \n",
       "3            Low  1960s  \n",
       "4            Low  1970s  "
      ]
     },
     "execution_count": 168,
     "metadata": {},
     "output_type": "execute_result"
    }
   ],
   "source": [
    "a['decade']=(a['year']//10*10).astype(str)+'s'\n",
    "a.head()"
   ]
  },
  {
   "cell_type": "markdown",
   "id": "269fe6bc-3541-4700-9075-048bf805443f",
   "metadata": {},
   "source": [
    "### Queston-10) Compute the correlation matrix between GDP per capita, life expectancy,and population for the dataset. Then, use Seaborn to visualize this correlation matrix as a heatmap."
   ]
  },
  {
   "cell_type": "code",
   "execution_count": 170,
   "id": "f594f110-e7ab-4c1c-9109-b02a565844ba",
   "metadata": {},
   "outputs": [
    {
     "data": {
      "text/plain": [
       "Text(0.5, 1.0, 'correlation matrix between GDP per capita, life expectancy,and population')"
      ]
     },
     "execution_count": 170,
     "metadata": {},
     "output_type": "execute_result"
    },
    {
     "data": {
      "image/png": "[encoded data removed]",
      "text/plain": [
       "<Figure size 800x400 with 2 Axes>"
      ]
     },
     "metadata": {},
     "output_type": "display_data"
    }
   ],
   "source": [
    "corr_mat=a[['gdp_cap','life_exp','population']].corr()\n",
    "plt.figure(figsize=(8,4))\n",
    "sns.heatmap(corr_mat,annot=True,cmap='coolwarm')\n",
    "plt.title('correlation matrix between GDP per capita, life expectancy,and population')"
   ]
  },
  {
   "cell_type": "markdown",
   "id": "c979232d-3fbd-4284-b1c8-49b1d289c6b2",
   "metadata": {},
   "source": [
    "### Question-11) How has the global average life expectancy changed from 1952 to 2007? Plot a line graph to visualize this trend."
   ]
  },
  {
   "cell_type": "code",
   "execution_count": 174,
   "id": "eab03ec5-0fe9-4225-b01e-bf4aab349976",
   "metadata": {},
   "outputs": [
    {
     "data": {
      "text/plain": [
       "Text(0.5, 1.0, 'average life expectancy changed from 1952 to 2007')"
      ]
     },
     "execution_count": 174,
     "metadata": {},
     "output_type": "execute_result"
    },
    {
     "data": {
      "image/png": "[encoded data removed]",
      "text/plain": [
       "<Figure size 800x400 with 1 Axes>"
      ]
     },
     "metadata": {},
     "output_type": "display_data"
    }
   ],
   "source": [
    "global_life=a.groupby('year')['life_exp'].mean()\n",
    "plt.figure(figsize=(8,4))\n",
    "plt.plot(global_life.index,global_life.values,marker='^')\n",
    "plt.xlabel('Year')\n",
    "plt.ylabel('Average life_exp')\n",
    "plt.title('average life expectancy changed from 1952 to 2007')"
   ]
  },
  {
   "cell_type": "markdown",
   "id": "67ae8e25-a4a9-4e84-82b5-39e927df9115",
   "metadata": {},
   "source": [
    "# Subjective Question:\n",
    "### Discuss the various reasons that could have contributed to the change."
   ]
  },
  {
   "cell_type": "code",
   "execution_count": 221,
   "id": "b72c9108-3a56-45a8-8624-62aac6c7d470",
   "metadata": {},
   "outputs": [
    {
     "data": {
      "text/plain": [
       "Text(0, 0.5, 'Avg_gdp')"
      ]
     },
     "execution_count": 221,
     "metadata": {},
     "output_type": "execute_result"
    },
    {
     "data": {
      "image/png": "[encoded data removed]",
      "text/plain": [
       "<Figure size 800x400 with 1 Axes>"
      ]
     },
     "metadata": {},
     "output_type": "display_data"
    }
   ],
   "source": [
    "avg=a.groupby('year')['gdp_cap'].mean()\n",
    "plt.figure(figsize=(8,4))\n",
    "plt.plot(avg.index,avg.values,marker='o')\n",
    "plt.title('Average GDP per Year')\n",
    "plt.xlabel('Year')\n",
    "plt.ylabel('Avg_gdp')"
   ]
  },
  {
   "cell_type": "markdown",
   "id": "2bec493a-9287-417c-adb5-9657866b0c89",
   "metadata": {},
   "source": [
    "##### AS WE CAN SEE THE AVERAGE WORLD GDP INCREASED OVER THE YEARS WHICH CAN BE THE REASON OF INCREASED AVERAGE LIFE EXPECTANCY"
   ]
  },
  {
   "cell_type": "markdown",
   "id": "96a4f691-54aa-4f7a-a6ef-49dbdfed30df",
   "metadata": {},
   "source": [
    "### Question-12) For the year 2007, analyze the relationship between life expectancy and GDP per capita. Is there a noticeable trend or correlation? Represent this using a scatter plot."
   ]
  },
  {
   "cell_type": "code",
   "execution_count": 176,
   "id": "369b0a25-b147-48d3-b6ec-f5577fd0edee",
   "metadata": {},
   "outputs": [
    {
     "data": {
      "text/html": [
       "<div>\n",
       "<style scoped>\n",
       "    .dataframe tbody tr th:only-of-type {\n",
       "        vertical-align: middle;\n",
       "    }\n",
       "\n",
       "    .dataframe tbody tr th {\n",
       "        vertical-align: top;\n",
       "    }\n",
       "\n",
       "    .dataframe thead th {\n",
       "        text-align: right;\n",
       "    }\n",
       "</style>\n",
       "<table border=\"1\" class=\"dataframe\">\n",
       "  <thead>\n",
       "    <tr style=\"text-align: right;\">\n",
       "      <th></th>\n",
       "      <th>gdp_cap</th>\n",
       "      <th>life_exp</th>\n",
       "    </tr>\n",
       "  </thead>\n",
       "  <tbody>\n",
       "    <tr>\n",
       "      <th>gdp_cap</th>\n",
       "      <td>1.000000</td>\n",
       "      <td>0.678662</td>\n",
       "    </tr>\n",
       "    <tr>\n",
       "      <th>life_exp</th>\n",
       "      <td>0.678662</td>\n",
       "      <td>1.000000</td>\n",
       "    </tr>\n",
       "  </tbody>\n",
       "</table>\n",
       "</div>"
      ],
      "text/plain": [
       "           gdp_cap  life_exp\n",
       "gdp_cap   1.000000  0.678662\n",
       "life_exp  0.678662  1.000000"
      ]
     },
     "execution_count": 176,
     "metadata": {},
     "output_type": "execute_result"
    }
   ],
   "source": [
    "realtionship=a[a['year']==2007][['gdp_cap','life_exp']].corr()\n",
    "realtionship"
   ]
  },
  {
   "cell_type": "code",
   "execution_count": 180,
   "id": "5cec1e81-8531-4169-b742-de16a5a5f3a4",
   "metadata": {},
   "outputs": [
    {
     "data": {
      "text/html": [
       "<div>\n",
       "<style scoped>\n",
       "    .dataframe tbody tr th:only-of-type {\n",
       "        vertical-align: middle;\n",
       "    }\n",
       "\n",
       "    .dataframe tbody tr th {\n",
       "        vertical-align: top;\n",
       "    }\n",
       "\n",
       "    .dataframe thead th {\n",
       "        text-align: right;\n",
       "    }\n",
       "</style>\n",
       "<table border=\"1\" class=\"dataframe\">\n",
       "  <thead>\n",
       "    <tr style=\"text-align: right;\">\n",
       "      <th></th>\n",
       "      <th>year</th>\n",
       "      <th>gdp_cap</th>\n",
       "      <th>life_exp</th>\n",
       "    </tr>\n",
       "  </thead>\n",
       "  <tbody>\n",
       "    <tr>\n",
       "      <th>11</th>\n",
       "      <td>2007</td>\n",
       "      <td>974.580338</td>\n",
       "      <td>43.828</td>\n",
       "    </tr>\n",
       "    <tr>\n",
       "      <th>23</th>\n",
       "      <td>2007</td>\n",
       "      <td>5937.029526</td>\n",
       "      <td>76.423</td>\n",
       "    </tr>\n",
       "    <tr>\n",
       "      <th>35</th>\n",
       "      <td>2007</td>\n",
       "      <td>6223.367465</td>\n",
       "      <td>72.301</td>\n",
       "    </tr>\n",
       "    <tr>\n",
       "      <th>47</th>\n",
       "      <td>2007</td>\n",
       "      <td>4797.231267</td>\n",
       "      <td>42.731</td>\n",
       "    </tr>\n",
       "    <tr>\n",
       "      <th>59</th>\n",
       "      <td>2007</td>\n",
       "      <td>12779.379640</td>\n",
       "      <td>75.320</td>\n",
       "    </tr>\n",
       "  </tbody>\n",
       "</table>\n",
       "</div>"
      ],
      "text/plain": [
       "    year       gdp_cap  life_exp\n",
       "11  2007    974.580338    43.828\n",
       "23  2007   5937.029526    76.423\n",
       "35  2007   6223.367465    72.301\n",
       "47  2007   4797.231267    42.731\n",
       "59  2007  12779.379640    75.320"
      ]
     },
     "execution_count": 180,
     "metadata": {},
     "output_type": "execute_result"
    }
   ],
   "source": [
    "trand=a[a['year']==2007][['year','gdp_cap','life_exp']]\n",
    "trand.head()"
   ]
  },
  {
   "cell_type": "code",
   "execution_count": 184,
   "id": "124cb774-7a8c-4600-a0e8-3bb64e877588",
   "metadata": {},
   "outputs": [
    {
     "data": {
      "text/plain": [
       "Text(0.5, 1.0, 'relationship between life expectancy and GDP per capita in 2007')"
      ]
     },
     "execution_count": 184,
     "metadata": {},
     "output_type": "execute_result"
    },
    {
     "data": {
      "image/png": "[encoded data removed]",
      "text/plain": [
       "<Figure size 800x400 with 1 Axes>"
      ]
     },
     "metadata": {},
     "output_type": "display_data"
    }
   ],
   "source": [
    "plt.figure(figsize=(8,4))\n",
    "sns.scatterplot(y='gdp_cap',x='life_exp',data=trand)\n",
    "plt.title('relationship between life expectancy and GDP per capita in 2007')"
   ]
  },
  {
   "cell_type": "markdown",
   "id": "14cf4545-79e8-424f-90af-a18a718e7302",
   "metadata": {},
   "source": [
    "### Question-13) Compare the average GDP per capita for each continent in the year 2007. Use a bar chart for this comparison."
   ]
  },
  {
   "cell_type": "code",
   "execution_count": 209,
   "id": "0d470f99-a965-4bda-96b8-edbf70b6265a",
   "metadata": {},
   "outputs": [
    {
     "data": {
      "text/html": [
       "<div>\n",
       "<style scoped>\n",
       "    .dataframe tbody tr th:only-of-type {\n",
       "        vertical-align: middle;\n",
       "    }\n",
       "\n",
       "    .dataframe tbody tr th {\n",
       "        vertical-align: top;\n",
       "    }\n",
       "\n",
       "    .dataframe thead th {\n",
       "        text-align: right;\n",
       "    }\n",
       "</style>\n",
       "<table border=\"1\" class=\"dataframe\">\n",
       "  <thead>\n",
       "    <tr style=\"text-align: right;\">\n",
       "      <th></th>\n",
       "      <th>continent</th>\n",
       "      <th>gdp_cap</th>\n",
       "    </tr>\n",
       "  </thead>\n",
       "  <tbody>\n",
       "    <tr>\n",
       "      <th>0</th>\n",
       "      <td>Africa</td>\n",
       "      <td>3089.032605</td>\n",
       "    </tr>\n",
       "    <tr>\n",
       "      <th>1</th>\n",
       "      <td>Americas</td>\n",
       "      <td>11003.031625</td>\n",
       "    </tr>\n",
       "    <tr>\n",
       "      <th>2</th>\n",
       "      <td>Asia</td>\n",
       "      <td>12473.026870</td>\n",
       "    </tr>\n",
       "    <tr>\n",
       "      <th>3</th>\n",
       "      <td>Europe</td>\n",
       "      <td>25054.481636</td>\n",
       "    </tr>\n",
       "    <tr>\n",
       "      <th>4</th>\n",
       "      <td>Oceania</td>\n",
       "      <td>29810.188275</td>\n",
       "    </tr>\n",
       "  </tbody>\n",
       "</table>\n",
       "</div>"
      ],
      "text/plain": [
       "  continent       gdp_cap\n",
       "0    Africa   3089.032605\n",
       "1  Americas  11003.031625\n",
       "2      Asia  12473.026870\n",
       "3    Europe  25054.481636\n",
       "4   Oceania  29810.188275"
      ]
     },
     "execution_count": 209,
     "metadata": {},
     "output_type": "execute_result"
    }
   ],
   "source": [
    "avgerage_gdp=a[a['year']==2007].groupby('continent')['gdp_cap'].mean().reset_index()\n",
    "avgerage_gdp"
   ]
  },
  {
   "cell_type": "code",
   "execution_count": 211,
   "id": "07eccda7-e6b9-4da9-95c9-50f13878353d",
   "metadata": {},
   "outputs": [
    {
     "data": {
      "text/plain": [
       "Text(0.5, 1.0, 'average GDP per capita for each continent in the year 2007.')"
      ]
     },
     "execution_count": 211,
     "metadata": {},
     "output_type": "execute_result"
    },
    {
     "data": {
      "image/png": "[encoded data removed]",
      "text/plain": [
       "<Figure size 800x400 with 1 Axes>"
      ]
     },
     "metadata": {},
     "output_type": "display_data"
    }
   ],
   "source": [
    "plt.figure(figsize=(8,4))\n",
    "sns.barplot(x='continent',y='gdp_cap',data=avgerage_gdp)\n",
    "plt.title('average GDP per capita for each continent in the year 2007.')"
   ]
  },
  {
   "cell_type": "markdown",
   "id": "ca2db690-3f18-4aea-9bce-1a1b47f9b406",
   "metadata": {},
   "source": [
    "# SUBJECTIVE QUESTION\n",
    "### Why is the average GDP per capita for Oceania higher than the Americas even though the Americas have more countries?"
   ]
  },
  {
   "cell_type": "code",
   "execution_count": 223,
   "id": "9731bba2-e547-4f11-9bd6-dd0de4286b20",
   "metadata": {},
   "outputs": [
    {
     "data": {
      "text/plain": [
       "212992136"
      ]
     },
     "execution_count": 223,
     "metadata": {},
     "output_type": "execute_result"
    }
   ],
   "source": [
    "#Total population of Oceania\n",
    "a[a['continent']=='Oceania']['population'].sum()"
   ]
  },
  {
   "cell_type": "code",
   "execution_count": 225,
   "id": "77edae8d-5096-481f-9a57-6a9ca0b2cf69",
   "metadata": {},
   "outputs": [
    {
     "data": {
      "text/plain": [
       "7351438499"
      ]
     },
     "execution_count": 225,
     "metadata": {},
     "output_type": "execute_result"
    }
   ],
   "source": [
    "#Total population of Americas\n",
    "a[a['continent']=='Americas']['population'].sum()"
   ]
  },
  {
   "cell_type": "markdown",
   "id": "78bc6e75-d885-4259-af3f-cdeda9035d2b",
   "metadata": {},
   "source": [
    "##### If any country have more population then the GDP of that country is low\n",
    "##### Total population of Oceania(212992136) is less then the Americas(7351438499). Hence, GDP per Capita is higher for Oceania"
   ]
  },
  {
   "cell_type": "markdown",
   "id": "e643d16e-1fb4-45df-bc91-b41c8362ac25",
   "metadata": {},
   "source": [
    "### Question-14) Compare the life expectancy and GDP per capita of Afghanistan (a country known for its historical conflicts) and Switzerland (representing a peaceful and economically prosperous country) using the dataset provided."
   ]
  },
  {
   "cell_type": "markdown",
   "id": "f99fe192-994f-4f13-881c-c57df2d8f0ec",
   "metadata": {},
   "source": [
    "#### (a) Firstly, for the year 2007, use a bar chart to directly compare the life expectancy and GDP per capita between these two countries."
   ]
  },
  {
   "cell_type": "code",
   "execution_count": 242,
   "id": "d28045e9-3ee4-42f5-b18e-0848f2ed7a99",
   "metadata": {},
   "outputs": [
    {
     "data": {
      "text/html": [
       "<div>\n",
       "<style scoped>\n",
       "    .dataframe tbody tr th:only-of-type {\n",
       "        vertical-align: middle;\n",
       "    }\n",
       "\n",
       "    .dataframe tbody tr th {\n",
       "        vertical-align: top;\n",
       "    }\n",
       "\n",
       "    .dataframe thead th {\n",
       "        text-align: right;\n",
       "    }\n",
       "</style>\n",
       "<table border=\"1\" class=\"dataframe\">\n",
       "  <thead>\n",
       "    <tr style=\"text-align: right;\">\n",
       "      <th></th>\n",
       "      <th>life_exp</th>\n",
       "      <th>gdp_cap</th>\n",
       "    </tr>\n",
       "  </thead>\n",
       "  <tbody>\n",
       "    <tr>\n",
       "      <th>11</th>\n",
       "      <td>43.828</td>\n",
       "      <td>974.580338</td>\n",
       "    </tr>\n",
       "    <tr>\n",
       "      <th>1487</th>\n",
       "      <td>81.701</td>\n",
       "      <td>37506.419070</td>\n",
       "    </tr>\n",
       "  </tbody>\n",
       "</table>\n",
       "</div>"
      ],
      "text/plain": [
       "      life_exp       gdp_cap\n",
       "11      43.828    974.580338\n",
       "1487    81.701  37506.419070"
      ]
     },
     "execution_count": 242,
     "metadata": {},
     "output_type": "execute_result"
    }
   ],
   "source": [
    "year=a[a['year']==2007]\n",
    "two=year[year['country'].isin(['Afghanistan','Switzerland'])]\n",
    "two[['life_exp','gdp_cap']]"
   ]
  },
  {
   "cell_type": "code",
   "execution_count": 303,
   "id": "a96bcc92-8513-4c8a-9c41-b93bcbfade10",
   "metadata": {},
   "outputs": [
    {
     "data": {
      "text/plain": [
       "Text(0.5, 1.0, 'compare the life expectancy and country')"
      ]
     },
     "execution_count": 303,
     "metadata": {},
     "output_type": "execute_result"
    },
    {
     "data": {
      "image/png": "[encoded data removed]",
      "text/plain": [
       "<Figure size 400x400 with 1 Axes>"
      ]
     },
     "metadata": {},
     "output_type": "display_data"
    }
   ],
   "source": [
    "plt.figure(figsize=(4,4))\n",
    "sns.barplot(y='life_exp',x='country',data=two)\n",
    "plt.title('compare the life expectancy and country')"
   ]
  },
  {
   "cell_type": "code",
   "execution_count": 261,
   "id": "c3cd8e97-cd07-4163-9f6b-e175c16624c5",
   "metadata": {},
   "outputs": [
    {
     "data": {
      "text/plain": [
       "Text(0.5, 1.0, 'compare the country and GDP per capita')"
      ]
     },
     "execution_count": 261,
     "metadata": {},
     "output_type": "execute_result"
    },
    {
     "data": {
      "image/png": "[encoded data removed]",
      "text/plain": [
       "<Figure size 400x400 with 1 Axes>"
      ]
     },
     "metadata": {},
     "output_type": "display_data"
    }
   ],
   "source": [
    "plt.figure(figsize=(4,4))\n",
    "sns.barplot(y='gdp_cap',x='country',data=two)\n",
    "plt.title('compare the country and GDP per capita')"
   ]
  },
  {
   "cell_type": "markdown",
   "id": "a7aac0bc-52f1-46e6-b4a7-130e7586f7ee",
   "metadata": {},
   "source": [
    "### (b) Then, create two separate line graphs to show the trends of these two metrics over all available years in the dataset for both countries."
   ]
  },
  {
   "cell_type": "code",
   "execution_count": 281,
   "id": "6b38a897-b005-4fb6-bb93-5eaa8395ec3d",
   "metadata": {},
   "outputs": [
    {
     "data": {
      "text/html": [
       "<div>\n",
       "<style scoped>\n",
       "    .dataframe tbody tr th:only-of-type {\n",
       "        vertical-align: middle;\n",
       "    }\n",
       "\n",
       "    .dataframe tbody tr th {\n",
       "        vertical-align: top;\n",
       "    }\n",
       "\n",
       "    .dataframe thead th {\n",
       "        text-align: right;\n",
       "    }\n",
       "</style>\n",
       "<table border=\"1\" class=\"dataframe\">\n",
       "  <thead>\n",
       "    <tr style=\"text-align: right;\">\n",
       "      <th></th>\n",
       "      <th>year</th>\n",
       "      <th>life_exp</th>\n",
       "      <th>gdp_cap</th>\n",
       "    </tr>\n",
       "  </thead>\n",
       "  <tbody>\n",
       "    <tr>\n",
       "      <th>0</th>\n",
       "      <td>1952</td>\n",
       "      <td>28.801</td>\n",
       "      <td>779.445314</td>\n",
       "    </tr>\n",
       "    <tr>\n",
       "      <th>1</th>\n",
       "      <td>1957</td>\n",
       "      <td>30.332</td>\n",
       "      <td>820.853030</td>\n",
       "    </tr>\n",
       "    <tr>\n",
       "      <th>2</th>\n",
       "      <td>1962</td>\n",
       "      <td>31.997</td>\n",
       "      <td>853.100710</td>\n",
       "    </tr>\n",
       "    <tr>\n",
       "      <th>3</th>\n",
       "      <td>1967</td>\n",
       "      <td>34.020</td>\n",
       "      <td>836.197138</td>\n",
       "    </tr>\n",
       "    <tr>\n",
       "      <th>4</th>\n",
       "      <td>1972</td>\n",
       "      <td>36.088</td>\n",
       "      <td>739.981106</td>\n",
       "    </tr>\n",
       "  </tbody>\n",
       "</table>\n",
       "</div>"
      ],
      "text/plain": [
       "   year  life_exp     gdp_cap\n",
       "0  1952    28.801  779.445314\n",
       "1  1957    30.332  820.853030\n",
       "2  1962    31.997  853.100710\n",
       "3  1967    34.020  836.197138\n",
       "4  1972    36.088  739.981106"
      ]
     },
     "execution_count": 281,
     "metadata": {},
     "output_type": "execute_result"
    }
   ],
   "source": [
    "two=a[a['country'].isin(['Afghanistan','Switzerland'])]\n",
    "two[['year','life_exp','gdp_cap']].head()     "
   ]
  },
  {
   "cell_type": "code",
   "execution_count": 295,
   "id": "7c50842f-d93e-489b-925b-6c37cf2c8c01",
   "metadata": {},
   "outputs": [
    {
     "data": {
      "text/plain": [
       "<matplotlib.legend.Legend at 0x1acf0e177d0>"
      ]
     },
     "execution_count": 295,
     "metadata": {},
     "output_type": "execute_result"
    },
    {
     "data": {
      "image/png": "[encoded data removed]",
      "text/plain": [
       "<Figure size 800x500 with 1 Axes>"
      ]
     },
     "metadata": {},
     "output_type": "display_data"
    }
   ],
   "source": [
    "plt.figure(figsize=(8,5))\n",
    "plt.plot('year','life_exp',data=two[two['country']=='Afghanistan'], label='Life Expectancy-Afghanistan',marker='o')\n",
    "plt.plot('year','life_exp',data=two[two['country']=='Switzerland'], label='Life Expectancy-Switzerland',marker='o')\n",
    "plt.legend(loc='upper left')"
   ]
  },
  {
   "cell_type": "code",
   "execution_count": 297,
   "id": "aff10673-3488-42d7-a3fa-402f47516d96",
   "metadata": {},
   "outputs": [
    {
     "data": {
      "text/plain": [
       "<matplotlib.legend.Legend at 0x1acf2578a50>"
      ]
     },
     "execution_count": 297,
     "metadata": {},
     "output_type": "execute_result"
    },
    {
     "data": {
      "image/png": "[encoded data removed]",
      "text/plain": [
       "<Figure size 800x500 with 1 Axes>"
      ]
     },
     "metadata": {},
     "output_type": "display_data"
    }
   ],
   "source": [
    "plt.figure(figsize=(8,5))\n",
    "plt.plot('year','gdp_cap',data=two[two['country']=='Afghanistan'], label='GDP PER CAPITA-Afghanistan',marker='o')\n",
    "plt.plot('year','gdp_cap',data=two[two['country']=='Switzerland'], label='GDP PER CAPITA-Switzerland',marker='o')\n",
    "plt.legend(loc='upper left')"
   ]
  },
  {
   "cell_type": "markdown",
   "id": "2b6ec0ed-8aa3-4dba-a6b0-9c3349ab97a7",
   "metadata": {},
   "source": [
    "## Subjective Question:\n",
    "### What differences do you observe in terms of life expectancy and economic development? How might the stability or instability of a country influence these key metrics over time? Analyze the data through these visualizations and discuss your inferences."
   ]
  },
  {
   "cell_type": "markdown",
   "id": "4ac423c5-2fa5-431c-8484-f111d9b770cb",
   "metadata": {},
   "source": [
    "#### Answer- As per the above graphs for Switzerland and Afghanistan, its clear that if the country's GDP per Capita is high than the Life Expectancy will be higher. People tend to live longer in stable countries.\n"
   ]
  },
  {
   "cell_type": "code",
   "execution_count": null,
   "id": "c2fd5157-77bd-44b6-a863-0b42d05e1959",
   "metadata": {},
   "outputs": [],
   "source": []
  }
 ],
 "metadata": {
  "kernelspec": {
   "display_name": "Python 3 (ipykernel)",
   "language": "python",
   "name": "python3"
  },
  "language_info": {
   "codemirror_mode": {
    "name": "ipython",
    "version": 3
   },
   "file_extension": ".py",
   "mimetype": "text/x-python",
   "name": "python",
   "nbconvert_exporter": "python",
   "pygments_lexer": "ipython3",
   "version": "3.11.7"
  }
 },
 "nbformat": 4,
 "nbformat_minor": 5
}
